{
 "cells": [
  {
   "cell_type": "markdown",
   "metadata": {},
   "source": [
    "## Problem 1\n",
    "\n"
   ]
  },
  {
   "cell_type": "markdown",
   "metadata": {},
   "source": [
    "$$ \n",
    "\n",
    "\\begin{aligned}\n",
    "    min \\mid A - BX \\mid_{F} \\\\\n",
    "    = tr\\left( \\left( A - BX \\right)^{T} \\left( A - BX \\right)\\right) \\\\\n",
    "    = tr\\left( A^T A + X^TB^T BX - X^TB^TA - A^TBX \\right) \\\\\n",
    "    = tr \\left( A^T A \\right) + tr \\left( BXX^TB^T \\right) - tr 2 \\left( A^TBX \\right)\\\\\n",
    "    \\\\\n",
    "    \n",
    "\n",
    "    \\text{Then, } \\left( A^TA \\right) \\text{and } \\left( BXX^TB^T \\right) \\text{where } XX^T = I  \\text{ are both constant terms}.\n",
    "\\end{aligned}$$\n",
    "\n",
    "Meaning that we can maximize $tr \\left( A^TBX \\right)$ to solve the optimization. We need to apply SVD\n",
    "$$\n",
    "\\begin{aligned}\n",
    "    tr \\left( AB^TX^T \\right) \\\\\n",
    "    = tr \\left(  \\mathbf{U} \\Sigma \\mathbf{V}^T X^T \\right) \\\\\n",
    "    = tr \\left(  \\Sigma \\mathbf{V}^T X^T \\mathbf{U} \\right) \\text{ with } \\mathbf{Z} = \\mathbf{V}^T X^T \\mathbf{U} \\\\\n",
    "    = tr \\left(  \\Sigma \\mathbf{Z} \\right)\n",
    "    = \\sum_{i}^{} Z_{i,i}\\Sigma_{i,i} \\\\\n",
    "    \n",
    "    \\mathbf{Z} \\text{ is an orthogonal matrix, then  the optimum is achieved when }\\mathbf{Z} = \\mathbf{I}\n",
    "    \\\\\n",
    "    \n",
    "    \\\\\n",
    "    \n",
    "    X = \\mathbf{U}\\mathbf{V}^T\n",
    "\\end{aligned}\n",
    "$$\n"
   ]
  },
  {
   "cell_type": "markdown",
   "metadata": {},
   "source": [
    "## Problem 12"
   ]
  },
  {
   "cell_type": "code",
   "execution_count": 3,
   "metadata": {},
   "outputs": [],
   "source": [
    "from run import Engine"
   ]
  },
  {
   "cell_type": "code",
   "execution_count": 4,
   "metadata": {},
   "outputs": [],
   "source": [
    "engine = Engine()"
   ]
  },
  {
   "cell_type": "markdown",
   "metadata": {},
   "source": [
    "### 8-point algorithm"
   ]
  },
  {
   "cell_type": "code",
   "execution_count": 4,
   "metadata": {},
   "outputs": [
    {
     "name": "stdout",
     "output_type": "stream",
     "text": [
      "condition number 386779150735.66705\n",
      "step 0, err: 7.160732705871644\n",
      "step 1000, err: 0.5214589665466234\n",
      "step 2000, err: 0.5633329289869181\n",
      "step 3000, err: 0.5623017607094797\n",
      "step 4000, err: 0.5698268473504396\n",
      "step 5000, err: 0.5678945413205159\n",
      "step 6000, err: 0.5560209380827632\n",
      "step 7000, err: 0.5827503155670568\n",
      "step 8000, err: 0.591579259857796\n",
      "step 9000, err: 0.5298454106034809\n",
      "[Open3D DEBUG] GLFW init.\n",
      "\u001b[1;33m[Open3D WARNING] GLFW Error: Cocoa: Failed to find service port for display\u001b[0;m\n",
      "\u001b[1;33m[Open3D WARNING] GLFW Error: Cocoa: Failed to find service port for display\u001b[0;m\n",
      "[Open3D DEBUG] Add geometry and update bounding box to [(-22.3970, 2.1672, -28.3910) - (22.3998, 60.7769, 39.3920)]\n",
      "[Open3D DEBUG] Add geometry and update bounding box to [(-22.6612, 2.0966, -28.3910) - (22.4204, 60.8290, 39.3920)]\n",
      "[Open3D DEBUG] Add geometry and update bounding box to [(-22.6612, 2.0966, -28.3910) - (28.3865, 82.5838, 70.9815)]\n",
      "[Open3D DEBUG] Add geometry and update bounding box to [(-22.6612, 2.0966, -28.3910) - (70.6892, 82.5838, 70.9815)]\n",
      "[Open3D DEBUG] Add geometry and update bounding box to [(-22.6612, 2.0966, -28.3910) - (70.6892, 82.9650, 70.9815)]\n",
      "[Open3D DEBUG] Add geometry and update bounding box to [(-22.6612, 2.0966, -28.3910) - (70.7340, 82.9650, 70.9815)]\n",
      "[Open3D DEBUG] Global colormap init.\n"
     ]
    }
   ],
   "source": [
    "engine.sfm_pipeline(use_noise=True, use_BA=True, final_vis=True, normalize_eight_point=False)"
   ]
  },
  {
   "cell_type": "markdown",
   "metadata": {},
   "source": [
    "Condition number was huge: 386779150735.66705. The error didn't decrease much after the first 1,000 steps, with a final error of 0.5298"
   ]
  },
  {
   "cell_type": "markdown",
   "metadata": {},
   "source": [
    "<img src=\"assets/images/bundle-adjustment-8-point.png\" style=\"width: 500px; margin: auto; display: flex;\"/>"
   ]
  },
  {
   "cell_type": "markdown",
   "metadata": {},
   "source": [
    "### Normalized 8-point algorithm"
   ]
  },
  {
   "cell_type": "code",
   "execution_count": 4,
   "metadata": {},
   "outputs": [
    {
     "name": "stdout",
     "output_type": "stream",
     "text": [
      "condition number 1331.178438294837\n",
      "step 0, err: 0.39939844880027875\n",
      "step 1000, err: 0.5463882982681467\n",
      "step 2000, err: 0.5056460621908008\n",
      "step 3000, err: 0.5696202979531187\n",
      "step 4000, err: 0.512972216224318\n",
      "step 5000, err: 0.5190394232732399\n",
      "step 6000, err: 0.4941910075008047\n",
      "step 7000, err: 0.5145344731266677\n",
      "step 8000, err: 0.522201767267177\n",
      "step 9000, err: 0.5102767320059329\n",
      "[Open3D DEBUG] GLFW init.\n",
      "\u001b[1;33m[Open3D WARNING] GLFW Error: Cocoa: Failed to find service port for display\u001b[0;m\n",
      "\u001b[1;33m[Open3D WARNING] GLFW Error: Cocoa: Failed to find service port for display\u001b[0;m\n",
      "[Open3D DEBUG] Add geometry and update bounding box to [(-22.3970, 2.1672, -28.3910) - (22.3998, 60.7769, 39.3920)]\n",
      "[Open3D DEBUG] Add geometry and update bounding box to [(-22.3970, 1.9839, -28.3910) - (22.4352, 60.9513, 39.4400)]\n",
      "[Open3D DEBUG] Add geometry and update bounding box to [(-22.3970, 1.9839, -28.3910) - (28.3865, 82.5838, 70.9815)]\n",
      "[Open3D DEBUG] Add geometry and update bounding box to [(-22.3970, 1.9839, -28.3910) - (70.6892, 82.5838, 70.9815)]\n",
      "[Open3D DEBUG] Add geometry and update bounding box to [(-22.3970, 1.9839, -28.3910) - (70.6892, 82.6791, 71.1044)]\n",
      "[Open3D DEBUG] Add geometry and update bounding box to [(-22.3970, 1.9839, -28.3910) - (70.7697, 82.6791, 71.1044)]\n",
      "[Open3D DEBUG] Global colormap init.\n"
     ]
    }
   ],
   "source": [
    "engine.sfm_pipeline(use_noise=True, use_BA=True, final_vis=True, normalize_eight_point=True)"
   ]
  },
  {
   "cell_type": "markdown",
   "metadata": {},
   "source": [
    "Condition number improved significantly, decreasing to 1331.178. The error stayed on similar values, with marginal improvement reaching a final error of 0.51027"
   ]
  },
  {
   "cell_type": "markdown",
   "metadata": {},
   "source": [
    "<img src=\"assets/images/bundle-adjustment-norm-8-point.png\" style=\"width: 500px; margin: auto; display: flex;\"/>"
   ]
  },
  {
   "cell_type": "markdown",
   "metadata": {},
   "source": [
    "### 2% random correspondence flipping"
   ]
  },
  {
   "cell_type": "code",
   "execution_count": 5,
   "metadata": {},
   "outputs": [
    {
     "name": "stdout",
     "output_type": "stream",
     "text": [
      "condition number 1328.3728785148517\n",
      "step 0, err: 0.4116162877018157\n",
      "step 1000, err: 0.6057451191145822\n",
      "step 2000, err: 0.5955350924768572\n",
      "step 3000, err: 0.5970830444593593\n",
      "step 4000, err: 0.5546594614810048\n",
      "step 5000, err: 0.5515708751662294\n",
      "step 6000, err: 0.5379695943709637\n",
      "step 7000, err: 0.5486317460873212\n",
      "step 8000, err: 0.5751791939462941\n",
      "step 9000, err: 0.5377793162386013\n",
      "[Open3D DEBUG] GLFW init.\n",
      "\u001b[1;33m[Open3D WARNING] GLFW Error: Cocoa: Failed to find service port for display\u001b[0;m\n",
      "\u001b[1;33m[Open3D WARNING] GLFW Error: Cocoa: Failed to find service port for display\u001b[0;m\n",
      "[Open3D DEBUG] Add geometry and update bounding box to [(-22.3970, 2.1672, -28.3910) - (22.3998, 60.7769, 39.3920)]\n",
      "[Open3D DEBUG] Add geometry and update bounding box to [(-22.3970, 2.1318, -28.3910) - (22.4384, 60.8218, 39.4583)]\n",
      "[Open3D DEBUG] Add geometry and update bounding box to [(-22.3970, 2.1318, -28.3910) - (28.3865, 82.5838, 70.9815)]\n",
      "[Open3D DEBUG] Add geometry and update bounding box to [(-22.3970, 2.1318, -28.3910) - (70.6892, 82.5838, 70.9815)]\n",
      "[Open3D DEBUG] Add geometry and update bounding box to [(-22.3970, 2.1318, -28.3910) - (70.6892, 82.6088, 71.2142)]\n",
      "[Open3D DEBUG] Add geometry and update bounding box to [(-22.3970, 2.1318, -28.3910) - (70.8291, 82.6088, 71.2142)]\n",
      "[Open3D DEBUG] Global colormap init.\n"
     ]
    }
   ],
   "source": [
    "engine.sfm_pipeline(use_noise=True, use_BA=True, final_vis=True, normalize_eight_point=True, flip=True)"
   ]
  },
  {
   "cell_type": "markdown",
   "metadata": {},
   "source": [
    "Clearly we were going to receive a worse error than previously. The last step error was 0.53, worse than the previous two experiments. The condition number stayed in line with the normalized_8_point algorithm, as we keeped it enabled"
   ]
  },
  {
   "cell_type": "markdown",
   "metadata": {},
   "source": [
    "<img src=\"assets/images/random-flipping.png\" style=\"width: 500px; margin: auto; display: flex;\"/>"
   ]
  },
  {
   "cell_type": "markdown",
   "metadata": {},
   "source": []
  }
 ],
 "metadata": {
  "interpreter": {
   "hash": "67d8f93d5c026f038228f5f156f224dff8d27adee27e57efdce658e1b6a74424"
  },
  "kernelspec": {
   "display_name": "Python 3.9.10 ('uchicago-cv')",
   "language": "python",
   "name": "python3"
  },
  "language_info": {
   "codemirror_mode": {
    "name": "ipython",
    "version": 3
   },
   "file_extension": ".py",
   "mimetype": "text/x-python",
   "name": "python",
   "nbconvert_exporter": "python",
   "pygments_lexer": "ipython3",
   "version": "3.9.10"
  },
  "orig_nbformat": 4
 },
 "nbformat": 4,
 "nbformat_minor": 2
}
